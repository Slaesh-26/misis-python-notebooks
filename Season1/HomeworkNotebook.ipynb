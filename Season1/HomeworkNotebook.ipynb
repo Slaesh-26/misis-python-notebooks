{
 "cells": [
  {
   "cell_type": "markdown",
   "id": "934a95f2-0a33-4fb6-864c-c9b53c4a340f",
   "metadata": {},
   "source": [
    "# Homework #1"
   ]
  },
  {
   "cell_type": "markdown",
   "id": "1e4a088d-0513-4848-bce8-4eed56ded4ef",
   "metadata": {},
   "source": [
    "## Task #1"
   ]
  },
  {
   "cell_type": "code",
   "execution_count": 16,
   "id": "bd62f3ac-5d61-4d5c-8f75-5919ca023ae9",
   "metadata": {},
   "outputs": [
    {
     "name": "stdout",
     "output_type": "stream",
     "text": [
      "0:2:46:40\n"
     ]
    }
   ],
   "source": [
    "seconds = 10000\n",
    "\n",
    "seconds_in_day = 24 * 3600\n",
    "seconds_in_hour = 3600\n",
    "seconds_in_minute = 60\n",
    "\n",
    "left = seconds\n",
    "result = \"\"\n",
    "\n",
    "for i in seconds_in_day, seconds_in_hour, seconds_in_minute:\n",
    "    time = int(left / i)\n",
    "    left -= time * i\n",
    "    result += f'{time}:'\n",
    "\n",
    "result += f'{left}'\n",
    "\n",
    "print(result)"
   ]
  },
  {
   "cell_type": "markdown",
   "id": "f2355e0b-4053-4357-93e4-1c518657990b",
   "metadata": {},
   "source": [
    "## Task #2"
   ]
  },
  {
   "cell_type": "code",
   "execution_count": 7,
   "id": "fda93bb6-4fa6-47da-93c9-ee6a758a60b8",
   "metadata": {},
   "outputs": [
    {
     "name": "stdin",
     "output_type": "stream",
     "text": [
      " 5\n",
      " /\n",
      " 2\n"
     ]
    },
    {
     "name": "stdout",
     "output_type": "stream",
     "text": [
      "2.5\n"
     ]
    }
   ],
   "source": [
    "number1 = float(input())\n",
    "sign = input()\n",
    "number2 = float(input())\n",
    "\n",
    "if sign == \"*\":\n",
    "    print(number1 * number2)\n",
    "elif sign == \"/\":\n",
    "    print(number1 / number2)\n",
    "elif sign == \"+\":\n",
    "    print(number1 + number2)\n",
    "elif sign == \"-\":\n",
    "    print(number1 - number2)\n",
    "else:\n",
    "    print(\"Unknown sign. Try again.\")"
   ]
  },
  {
   "cell_type": "markdown",
   "id": "3adfe02e-23b5-46aa-9d1a-d792ff07d62c",
   "metadata": {},
   "source": [
    "## Task #3"
   ]
  },
  {
   "cell_type": "code",
   "execution_count": 11,
   "id": "1cd456c4-0633-423a-af09-90c4ccd10ef6",
   "metadata": {},
   "outputs": [
    {
     "name": "stdin",
     "output_type": "stream",
     "text": [
      " aaa\n",
      " bbb\n"
     ]
    },
    {
     "name": "stdout",
     "output_type": "stream",
     "text": [
      "aaa$bbb\n",
      "aaa$bbb\n",
      "aaa$bbb\n"
     ]
    }
   ],
   "source": [
    "first_string = input()\n",
    "second_string = input()\n",
    "\n",
    "print(f\"{first_string}${second_string}\")\n",
    "print(first_string + \"$\" + second_string)\n",
    "print(first_string, second_string, sep=\"$\")"
   ]
  },
  {
   "cell_type": "markdown",
   "id": "7eb966aa-84b8-47c9-9d87-7e0bb8c13f60",
   "metadata": {},
   "source": [
    "## Task #4"
   ]
  },
  {
   "cell_type": "code",
   "execution_count": 12,
   "id": "583f7b3b-bcf7-4790-a2d8-36f5cbefe07c",
   "metadata": {},
   "outputs": [
    {
     "name": "stdin",
     "output_type": "stream",
     "text": [
      "Enter your name:  Alex\n",
      "Enter your age:  15\n"
     ]
    },
    {
     "name": "stdout",
     "output_type": "stream",
     "text": [
      "Happy birthday, Alex!\n",
      "Happy birthday, Alex!\n",
      "Happy birthday, Alex!\n",
      "Happy birthday, Alex!\n",
      "Happy birthday, Alex!\n",
      "Happy birthday, Alex!\n",
      "Happy birthday, Alex!\n",
      "Happy birthday, Alex!\n",
      "Happy birthday, Alex!\n",
      "Happy birthday, Alex!\n",
      "Happy birthday, Alex!\n",
      "Happy birthday, Alex!\n",
      "Happy birthday, Alex!\n",
      "Happy birthday, Alex!\n",
      "Happy birthday, Alex!\n",
      "\n"
     ]
    }
   ],
   "source": [
    "name = input(\"Enter your name: \")\n",
    "age = int(input(\"Enter your age: \"))\n",
    "\n",
    "print(f\"Happy birthday, {name}!\\n\" * age)"
   ]
  },
  {
   "cell_type": "markdown",
   "id": "2347bd36-37b4-4afa-bf44-35c43df29a3e",
   "metadata": {},
   "source": [
    "# Homework #2"
   ]
  },
  {
   "cell_type": "markdown",
   "id": "d9563536-c074-4d0a-a4cf-daf4f7e33c41",
   "metadata": {},
   "source": [
    "## Task #1"
   ]
  },
  {
   "cell_type": "code",
   "execution_count": 4,
   "id": "a5c08974-39dc-4c6a-ac2d-2f8cf77d06fd",
   "metadata": {},
   "outputs": [
    {
     "name": "stdout",
     "output_type": "stream",
     "text": [
      "November\n"
     ]
    }
   ],
   "source": [
    "month_map = {\n",
    "    1: \"January\",\n",
    "    2: \"February\",\n",
    "    3: \"March\",\n",
    "    4: \"April\",\n",
    "    5: \"May\",\n",
    "    6: \"June\",\n",
    "    7: \"July\",\n",
    "    8: \"August\",\n",
    "    9: \"September\",\n",
    "    10: \"October\",\n",
    "    11: \"November\",\n",
    "    12: \"December\"\n",
    "}\n",
    "\n",
    "month = 11\n",
    "print(month_map[month])"
   ]
  },
  {
   "cell_type": "markdown",
   "id": "cfe0c6b7-a6e4-4fc5-b171-f02796b8e22d",
   "metadata": {},
   "source": [
    "## Task #2"
   ]
  },
  {
   "cell_type": "code",
   "execution_count": 9,
   "id": "83fdcd39-25b4-4053-b064-5124a22fc1fb",
   "metadata": {},
   "outputs": [
    {
     "name": "stdout",
     "output_type": "stream",
     "text": [
      "4\n"
     ]
    }
   ],
   "source": [
    "number1 = 1113456\n",
    "number2 = 700\n",
    "\n",
    "while(number1 != 0 and number2 != 0):\n",
    "    if (number1 > number2):\n",
    "        number1 %= number2\n",
    "    else:\n",
    "        number2 %= number1\n",
    "\n",
    "print(number2 + number1)\n"
   ]
  },
  {
   "cell_type": "markdown",
   "id": "e307178b-b64e-4c46-a69c-64650d6fbe9b",
   "metadata": {},
   "source": [
    "## Task #3"
   ]
  },
  {
   "cell_type": "code",
   "execution_count": 35,
   "id": "5bddf062-59ec-48ee-b39b-587dc1403a7e",
   "metadata": {},
   "outputs": [
    {
     "name": "stdout",
     "output_type": "stream",
     "text": [
      "Correct extension\n"
     ]
    }
   ],
   "source": [
    "import re\n",
    "\n",
    "file = 'Моя.диссертац.svg'\n",
    "extensions = ['png', 'jpg', 'jpeg', 'gif', 'svg']\n",
    "\n",
    "correct_extension = False\n",
    "\n",
    "for extension in extensions:\n",
    "    pattern = f'[\\.A-Za-z0-9А-Яа-я_\\s-]+\\.{extension}'\n",
    "    match = re.fullmatch(pattern, file)\n",
    "\n",
    "    if (match):\n",
    "        correct_extension = True\n",
    "        break\n",
    "\n",
    "print(\"Correct extension\" if correct_extension else \"Incorrect extension\")"
   ]
  },
  {
   "cell_type": "markdown",
   "id": "a70eb22c-45b7-4805-9701-54fe06b78e09",
   "metadata": {},
   "source": [
    "## Task #4"
   ]
  },
  {
   "cell_type": "code",
   "execution_count": 43,
   "id": "03f413d3-b2c6-4f74-9c03-3c793695cb21",
   "metadata": {},
   "outputs": [
    {
     "name": "stdout",
     "output_type": "stream",
     "text": [
      "Common year\n"
     ]
    }
   ],
   "source": [
    "year = 2021\n",
    "\n",
    "is_leap_year = False\n",
    "\n",
    "if (year % 400 == 0):\n",
    "    is_leap_year = True\n",
    "elif (year % 100 == 0):\n",
    "    is_leap_year = False\n",
    "elif (year % 4 == 0):\n",
    "    is_leap_year = True\n",
    "\n",
    "print(\"Leap year\" if is_leap_year else \"Common year\")"
   ]
  },
  {
   "cell_type": "markdown",
   "id": "5400a33e-eb7b-4d20-aea1-9924b1e1fb7c",
   "metadata": {},
   "source": [
    "# Homework #3"
   ]
  },
  {
   "cell_type": "markdown",
   "id": "9cb9a7ed-fb16-43b6-ba64-bec5269b5eea",
   "metadata": {},
   "source": [
    "## Task #1"
   ]
  },
  {
   "cell_type": "code",
   "execution_count": 16,
   "id": "42e475bb-ba9f-49b6-9df9-78733f9acd96",
   "metadata": {},
   "outputs": [
    {
     "name": "stdout",
     "output_type": "stream",
     "text": [
      "4.326748721202069\n"
     ]
    }
   ],
   "source": [
    "def newton_root(number, root_type = 2, tolerance = 0.01):\n",
    "    if root_type < 2:\n",
    "        raise ValueError(\"Root type must be 2 or greater.\")\n",
    "    \n",
    "    guess = number / 2\n",
    "    while abs(guess**root_type - number) > tolerance:\n",
    "        guess = (1 / root_type) * ((root_type - 1) * guess + number / guess**(root_type - 1))\n",
    "    return guess\n",
    "\n",
    "print(newton_root(81, 3, 0.01))"
   ]
  },
  {
   "cell_type": "markdown",
   "id": "77ad27a0-62e6-4b5e-bb54-65ca40a043d5",
   "metadata": {},
   "source": [
    "## Task #2"
   ]
  },
  {
   "cell_type": "code",
   "execution_count": 22,
   "id": "809deadf-af23-46ba-8280-089b16b234ea",
   "metadata": {},
   "outputs": [
    {
     "name": "stdout",
     "output_type": "stream",
     "text": [
      "True\n"
     ]
    }
   ],
   "source": [
    "import re\n",
    "\n",
    "def check_file_extension(file, extensions):\n",
    "    for extension in extensions:\n",
    "        pattern = f'[\\.A-Za-z0-9А-Яа-я_\\s-]+\\.{extension}'\n",
    "        match = re.fullmatch(pattern, file)\n",
    "        if (match):\n",
    "            return True\n",
    "    \n",
    "    return False\n",
    "\n",
    "result = check_file_extension('Моя.диссертац.svg', ['png', 'jpg', 'jpeg', 'gif', 'svg'])\n",
    "print(result)"
   ]
  },
  {
   "cell_type": "markdown",
   "id": "f7a0cc8f-e7f4-48e3-87fc-46a4cb8aa845",
   "metadata": {},
   "source": [
    "## Task #3"
   ]
  },
  {
   "cell_type": "code",
   "execution_count": 27,
   "id": "111e831f-a8e1-49cd-ab02-802cafca98ea",
   "metadata": {},
   "outputs": [
    {
     "name": "stdout",
     "output_type": "stream",
     "text": [
      "{1: 10, 2: 20, 3: 30, 4: 40, 5: 50, 6: 60}\n"
     ]
    }
   ],
   "source": [
    "dict_a = {1:10, 2:20}\n",
    "dict_b = {3:30, 4:40}\n",
    "dict_c = {5:50, 6:60}\n",
    "\n",
    "dict_merged = {**dict_a, **dict_b, **dict_c}\n",
    "print(dict_merged)"
   ]
  },
  {
   "cell_type": "markdown",
   "id": "8d808feb-22bd-462b-8a9f-9a64a19bf37e",
   "metadata": {},
   "source": [
    "## Task #4"
   ]
  },
  {
   "cell_type": "code",
   "execution_count": 41,
   "id": "cf9664ea-88f8-48c6-8d54-38bc2d4cd5ab",
   "metadata": {},
   "outputs": [
    {
     "name": "stdout",
     "output_type": "stream",
     "text": [
      "15\n"
     ]
    }
   ],
   "source": [
    "def sum_digits(number):\n",
    "    if (number == 0):\n",
    "        return 0\n",
    "    else:\n",
    "        return int(number % 10) + sum_digits(int(number / 10))\n",
    "\n",
    "print(sum_digits(456))"
   ]
  },
  {
   "cell_type": "markdown",
   "id": "80e5fff3-ffbf-4486-b148-a137daf09753",
   "metadata": {},
   "source": [
    "## Task #5"
   ]
  },
  {
   "cell_type": "code",
   "execution_count": 44,
   "id": "a3667013-94cd-41bf-a86e-a3d4484fc8b5",
   "metadata": {},
   "outputs": [
    {
     "name": "stdout",
     "output_type": "stream",
     "text": [
      "Unique\n"
     ]
    }
   ],
   "source": [
    "def is_unique(numbers):\n",
    "    numbers_unique = set(numbers)\n",
    "    return len(numbers_unique) == len(numbers)\n",
    "\n",
    "numbers = [1,4,5]\n",
    "print(\"Unique\" if is_unique(numbers) else \"Not unique\")"
   ]
  },
  {
   "cell_type": "markdown",
   "id": "6d6510b1-2df0-4bbd-a6b3-d60f27925015",
   "metadata": {},
   "source": [
    "## Task #6"
   ]
  },
  {
   "cell_type": "code",
   "execution_count": 56,
   "id": "1c172d92-9ee0-44c4-b933-de301b875df3",
   "metadata": {},
   "outputs": [
    {
     "name": "stdout",
     "output_type": "stream",
     "text": [
      "(0, 'я')\n",
      "(1, 'не')\n",
      "(2, 'в')\n",
      "(3, 'отпуск')\n",
      "\n",
      "\n",
      "('key1', 2)\n",
      "('key3', False)\n",
      "('Приветствие', 'Hello')\n",
      "\n",
      "\n",
      "1\n",
      "(0, 1)\n",
      "(1, 2)\n",
      "(2, 3)\n",
      "(3, 4)\n",
      "Hello\n",
      "('ciao', 'Mondo')\n",
      "('Привет', 'О дивный мир')\n"
     ]
    }
   ],
   "source": [
    "def print_list(my_list):\n",
    "    for i in enumerate(my_list):\n",
    "        print(i)\n",
    "\n",
    "def print_dict(my_dict):\n",
    "    for i in my_dict.items():\n",
    "        print(i)\n",
    "\n",
    "def print_overlord(my_dict):\n",
    "    for key, value in my_dict.items():\n",
    "        if (isinstance(value, list)):\n",
    "            print_list(value)\n",
    "        elif (isinstance(value, dict)):\n",
    "            print_dict(value)\n",
    "        else:\n",
    "            print(value)\n",
    "\n",
    "print_list([\"я\", \"не\", \"в\", \"отпуск\" ])\n",
    "print(\"\\n\")\n",
    "print_dict({\"key1\": 2, \"key3\": False, \"Приветствие\": \"Hello\"})\n",
    "print(\"\\n\")\n",
    "print_overlord(dict(key1=1,\n",
    "            key2=[1, 2, 3, 4], \n",
    "            key3='Hello', \n",
    "            key4={\"ciao\":\"Mondo\", \"Привет\": \"О дивный мир\"}))"
   ]
  },
  {
   "cell_type": "markdown",
   "id": "6663dceb-9b10-4e62-8661-fab1226eb106",
   "metadata": {},
   "source": [
    "## Task 1*"
   ]
  },
  {
   "cell_type": "code",
   "execution_count": 74,
   "id": "29ca1558-b94a-4a80-acdb-ce1e03deacea",
   "metadata": {},
   "outputs": [
    {
     "name": "stdout",
     "output_type": "stream",
     "text": [
      "['Тут', 'фраза', 'с', 'пробелами', 'и', 'я', 'хочу', 'их', 'распечатать', 'по', 'одному', 'на', 'строку', 'и', 'ещё', 'посчитать', 'слова']\n",
      "Number of words: 17\n"
     ]
    }
   ],
   "source": [
    "import re\n",
    "\n",
    "def word_count(phrase):\n",
    "    match = re.split(r'\\W+', phrase)\n",
    "    return match\n",
    "\n",
    "result = word_count(\"Тут фраза с пробелами и я хочу их распечатать по одному на строку и ещё посчитать слова\")\n",
    "print(result)\n",
    "print(f\"Number of words: {len(result)}\")"
   ]
  },
  {
   "cell_type": "markdown",
   "id": "f5a05787-8209-4fe1-8011-187beaeb69d1",
   "metadata": {},
   "source": [
    "## Task 2*"
   ]
  },
  {
   "cell_type": "code",
   "execution_count": 107,
   "id": "b33dc6a0-5ce3-4dfa-aa0f-50eace1e8b27",
   "metadata": {},
   "outputs": [
    {
     "name": "stdout",
     "output_type": "stream",
     "text": [
      "{'Тут': 10.0, 'фраза': 5.0, 'с': 5.0, 'пробелами': 5.0, 'и': 10.0, 'я': 5.0, 'хочу': 5.0, 'их': 15.0, 'распечатать': 5.0, 'по': 5.0, 'одному': 5.0, 'на': 5.0, 'строку': 5.0, 'ещё': 5.0, 'посчитать': 5.0, 'слова': 5.0}\n"
     ]
    }
   ],
   "source": [
    "import re\n",
    "\n",
    "def word_frequency(phrase):\n",
    "    match = re.split(r'\\W+', phrase)\n",
    "    dict = {}\n",
    "    for word in match:\n",
    "        count = dict.get(word, 0)\n",
    "        dict.update({word: count + 1})\n",
    "\n",
    "    word_count = len(match)\n",
    "    for key, value in dict.items():\n",
    "        dict[key] = round(value / word_count * 100, 2)\n",
    "    \n",
    "    return dict    \n",
    "\n",
    "result = word_frequency(\"Тут Тут фраза с пробелами и я хочу их их их распечатать по одному на строку и ещё посчитать слова\")\n",
    "print(result)"
   ]
  },
  {
   "cell_type": "markdown",
   "id": "c7a76d68-2fe0-43f3-af8e-ee2463055e24",
   "metadata": {},
   "source": [
    "# Homework #4"
   ]
  },
  {
   "cell_type": "markdown",
   "id": "08ae417c-c4a6-4970-9c9a-baeccb865611",
   "metadata": {},
   "source": [
    "## Task #1"
   ]
  },
  {
   "cell_type": "code",
   "execution_count": 25,
   "id": "cdc7d8ee-8d91-499e-9cb1-4bca1874c174",
   "metadata": {},
   "outputs": [
    {
     "name": "stdout",
     "output_type": "stream",
     "text": [
      "3.18\n"
     ]
    },
    {
     "data": {
      "text/plain": [
       "['Дмитриев Н.', 'Котов Д.', 'Бирюкова Н.', 'Лемонов Ю.']"
      ]
     },
     "execution_count": 25,
     "metadata": {},
     "output_type": "execute_result"
    }
   ],
   "source": [
    "import re\n",
    "\n",
    "# file example:\n",
    "\n",
    "#Иванов О. 4\n",
    "#Петров И. 3\n",
    "#Дмитриев Н. 2\n",
    "#Смирнова О. 4\n",
    "#Керченских В. 5\n",
    "#Котов Д. 2\n",
    "#Бирюкова Н. 1\n",
    "#Данилов П. 3\n",
    "#Аранских В. 5\n",
    "#Лемонов Ю. 2\n",
    "#Олегова К. 4\n",
    "\n",
    "def get_average_score(filename):\n",
    "    file = open(filename, 'r', encoding = \"utf-8\")\n",
    "    average = 0\n",
    "    count = 0\n",
    "    for str in file:\n",
    "        result = re.search(r\"\\d+\", str)\n",
    "        score = int(result.group(0))\n",
    "        average += score\n",
    "        count += 1\n",
    "    average /= count\n",
    "\n",
    "    file.close()\n",
    "    return round(average, 2)\n",
    "\n",
    "def get_failed_list(filename):\n",
    "    file = open(filename, 'r', encoding = \"utf-8\")\n",
    "    failed_list = list()\n",
    "    \n",
    "    for str in file:\n",
    "        score_result = re.search(r\"\\d+\", str)\n",
    "        name_result = re.search(r\"[A-Za-zА-Яа-я]+\\s[A-Za-zА-Яа-я]\\.\", str)\n",
    "        score = int(score_result.group(0))\n",
    "        name = name_result.group(0)\n",
    "\n",
    "        if score < 3:\n",
    "            failed_list.append(name)\n",
    "    \n",
    "    file.close()\n",
    "    return failed_list\n",
    "\n",
    "print(get_average_score(\"students.txt\"))\n",
    "get_failed_list(\"students.txt\")"
   ]
  },
  {
   "cell_type": "markdown",
   "id": "2f79fa53-e886-4896-8e67-5d347ca4c3e8",
   "metadata": {},
   "source": [
    "## Task #2"
   ]
  },
  {
   "cell_type": "code",
   "execution_count": 37,
   "id": "f779381a-01a6-4d58-af05-9a75e0c96d7c",
   "metadata": {},
   "outputs": [
    {
     "data": {
      "text/plain": [
       "2"
      ]
     },
     "execution_count": 37,
     "metadata": {},
     "output_type": "execute_result"
    }
   ],
   "source": [
    "import re\n",
    "\n",
    "def get_word_count(word, file_name):\n",
    "    file = open(file_name, 'r', encoding = \"utf-8\")\n",
    "    file_str = file.read()\n",
    "    words = re.findall(r'[A-Za-zА-Яа-я]+', file_str)\n",
    "\n",
    "    count = words.count(word)\n",
    "    file.close()\n",
    "    return count\n",
    "\n",
    "get_word_count(\"лекц\", \"schedule.txt\")"
   ]
  },
  {
   "cell_type": "markdown",
   "id": "a06e9ef9-59ce-4bf7-8718-0fdfcd6b344b",
   "metadata": {},
   "source": [
    "## Task #4"
   ]
  },
  {
   "cell_type": "code",
   "execution_count": 38,
   "id": "3028178a-d5db-4737-9fbd-334438f79e12",
   "metadata": {},
   "outputs": [
    {
     "name": "stdout",
     "output_type": "stream",
     "text": [
      "HomeworkNotebook.ipynb  README.md  schedule.txt  students.txt  test.py\n"
     ]
    }
   ],
   "source": [
    "ls"
   ]
  },
  {
   "cell_type": "markdown",
   "id": "6dab7397-7ddf-456b-891b-7d01362455dd",
   "metadata": {},
   "source": [
    "## Task #5"
   ]
  },
  {
   "cell_type": "code",
   "execution_count": 53,
   "id": "151b6eee-468d-418c-a2c8-573d55cf3767",
   "metadata": {},
   "outputs": [
    {
     "name": "stdout",
     "output_type": "stream",
     "text": [
      "Most frequent word: и\n",
      "The longest word: храброславленный\n"
     ]
    }
   ],
   "source": [
    "def word_frequency(phrase):\n",
    "    phrase = phrase.lower()\n",
    "    match = re.split(r'\\W+', phrase)\n",
    "    dict = {}\n",
    "    for word in match:\n",
    "        count = dict.get(word, 0)\n",
    "        dict.update({word: count + 1})\n",
    "    \n",
    "    return dict\n",
    "\n",
    "def get_most_frequent_word(phrase):\n",
    "    frequency_dict = word_frequency(phrase)\n",
    "    max_count = 0\n",
    "    max_count_key = \"\"\n",
    "    for key, value in frequency_dict.items():\n",
    "        if (value > max_count):\n",
    "            max_count = value\n",
    "            max_count_key = key\n",
    "\n",
    "    return max_count_key\n",
    "\n",
    "def get_longest_word(phrase):\n",
    "    phrase = phrase.lower()\n",
    "    match = re.split(r'\\W+', phrase)\n",
    "    max_length = 0\n",
    "    max_length_word = \"\"\n",
    "    \n",
    "    for word in match:\n",
    "        if max_length < len(word):\n",
    "            max_length = len(word)\n",
    "            max_length_word = word\n",
    "    \n",
    "    return max_length_word\n",
    "\n",
    "file = open(\"text.txt\", \"r\", encoding = \"utf-8\")\n",
    "file_content = file.read()\n",
    "\n",
    "print(f\"Most frequent word: {get_most_frequent_word(file_content)}\")\n",
    "print(f\"The longest word: {get_longest_word(file_content)}\")"
   ]
  },
  {
   "cell_type": "markdown",
   "id": "4ae916b7-ccfb-4d52-864a-33a774d68885",
   "metadata": {},
   "source": [
    "# Homework #5"
   ]
  },
  {
   "cell_type": "markdown",
   "id": "ba2596e4-609b-4b92-9abd-74b94bed751d",
   "metadata": {},
   "source": [
    "## Task #1"
   ]
  },
  {
   "cell_type": "code",
   "execution_count": 66,
   "id": "c5d789bc-9101-4304-b43b-7a47f8470bad",
   "metadata": {},
   "outputs": [],
   "source": [
    "class Student:\n",
    "    def __init__(self, name = \"Ivan\", group_number = \"10A\", age = 18):\n",
    "        self.name = name\n",
    "        self.group_number = group_number\n",
    "        self.age = age\n",
    "    \n",
    "    def getName(self):\n",
    "        return self.name\n",
    "\n",
    "    def getAge(self):\n",
    "        return self.age\n",
    "\n",
    "    def getGroupNumber(self):\n",
    "        return self.group_number\n",
    "\n",
    "    def setNameAge(self, name, age):\n",
    "        self.name = name\n",
    "        self.age = age\n",
    "\n",
    "    def setGroupNumber(self, group_number):\n",
    "        self.group_number = group_number\n",
    "\n",
    "st1 = Student(\"Alice\", \"10Z\", 22)\n",
    "st2 = Student(\"Alex\", \"10B\", 22)\n",
    "st3 = Student(\"Catherine\", \"10C\", 22)\n",
    "st4 = Student(\"Edward\", \"10A\", 23)\n",
    "st5 = Student(\"Vladimir\", \"10F\", 22)\n",
    "st6 = Student(\"Diane\", \"10K\", 22)"
   ]
  },
  {
   "cell_type": "markdown",
   "id": "84f4708e-0698-44fa-a64f-a046f4e3ad1e",
   "metadata": {},
   "source": [
    "## Task #2"
   ]
  },
  {
   "cell_type": "code",
   "execution_count": 72,
   "id": "e27eef6c-8443-4e7d-a274-546b04e3a2cb",
   "metadata": {},
   "outputs": [
    {
     "name": "stdout",
     "output_type": "stream",
     "text": [
      "White LADA 2107's engine started\n",
      "White LADA 2107's engine stopped\n"
     ]
    }
   ],
   "source": [
    "class Car:\n",
    "    def __init__(self, color = \"White\", type = \"LADA 2107\", year = \"1892\"):\n",
    "        self.color = color\n",
    "        self.type = type\n",
    "        self.year = year\n",
    "\n",
    "    def startEngine(self):\n",
    "        print(f\"{self.color} {self.type}'s engine started\")\n",
    "\n",
    "    def stopEngine(self):\n",
    "        print(f\"{self.color} {self.type}'s engine stopped\")\n",
    "\n",
    "    def setYear(self, year):\n",
    "        self.year = year\n",
    "\n",
    "    def setType(self, type):\n",
    "        self.type = type\n",
    "\n",
    "    def setColor(self, color):\n",
    "        self.color = color\n",
    "\n",
    "car1 = Car()\n",
    "car1.startEngine()\n",
    "car1.stopEngine()"
   ]
  }
 ],
 "metadata": {
  "kernelspec": {
   "display_name": "Python 3 (ipykernel)",
   "language": "python",
   "name": "python3"
  },
  "language_info": {
   "codemirror_mode": {
    "name": "ipython",
    "version": 3
   },
   "file_extension": ".py",
   "mimetype": "text/x-python",
   "name": "python",
   "nbconvert_exporter": "python",
   "pygments_lexer": "ipython3",
   "version": "3.10.12"
  }
 },
 "nbformat": 4,
 "nbformat_minor": 5
}
