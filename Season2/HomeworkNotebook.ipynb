{
 "cells": [
  {
   "cell_type": "markdown",
   "id": "4deb4fe2-820f-43eb-8adc-63fdc263121a",
   "metadata": {},
   "source": [
    "# Homework #1"
   ]
  },
  {
   "cell_type": "markdown",
   "id": "4c2c6481-7130-455d-89b3-59db6dc6eaab",
   "metadata": {},
   "source": [
    "## Task #1"
   ]
  },
  {
   "cell_type": "code",
   "execution_count": 20,
   "id": "98a96d11-c088-494c-bb37-9badf912fa0c",
   "metadata": {},
   "outputs": [
    {
     "name": "stdout",
     "output_type": "stream",
     "text": [
      "Node: 1\n",
      "Node: 2\n",
      "Node: 3\n",
      "Node: 4\n",
      "\n",
      "Node: 4\n",
      "Node: 3\n",
      "Node: 2\n",
      "Node: 1\n",
      "\n"
     ]
    }
   ],
   "source": [
    "class Node:\n",
    "    def __init__(self, value, next):\n",
    "        self.value = value\n",
    "        self.next = next\n",
    "    \n",
    "    def __str__(self):\n",
    "        return f\"Node: {self.value}\"\n",
    "\n",
    "class LinkedList:\n",
    "    def __init__(self):\n",
    "        self.head = None\n",
    "        self.count = 0\n",
    "\n",
    "    def __str__(self):\n",
    "        current = self.head\n",
    "        result = \"\"\n",
    "        while current is not None:\n",
    "            result += f\"{current}\\n\"\n",
    "            current = current.next\n",
    "\n",
    "        return result\n",
    "\n",
    "    def add(self, value):\n",
    "        new_node = Node(value, None)\n",
    "        \n",
    "        if self.head == None:\n",
    "            self.head = new_node\n",
    "            return\n",
    "        \n",
    "        current = self.head\n",
    "\n",
    "        while current.next is not None:\n",
    "            current = current.next\n",
    "\n",
    "        current.next = new_node\n",
    "        self.count += 1\n",
    "\n",
    "    def reverse(self):\n",
    "        prev = None\n",
    "        current = self.head\n",
    "\n",
    "        while current is not None:\n",
    "            next = current.next\n",
    "            current.next = prev\n",
    "            prev = current\n",
    "            current = next\n",
    "        self.head = prev\n",
    "        \n",
    "list = LinkedList()\n",
    "list.add(1)\n",
    "list.add(2)\n",
    "list.add(3)\n",
    "list.add(4)\n",
    "\n",
    "print(list)\n",
    "list.reverse()\n",
    "print(list)"
   ]
  },
  {
   "cell_type": "code",
   "execution_count": null,
   "id": "a4b6162d-9a1a-4435-b050-6eb16ae4c22d",
   "metadata": {},
   "outputs": [],
   "source": []
  }
 ],
 "metadata": {
  "kernelspec": {
   "display_name": "Python 3 (ipykernel)",
   "language": "python",
   "name": "python3"
  },
  "language_info": {
   "codemirror_mode": {
    "name": "ipython",
    "version": 3
   },
   "file_extension": ".py",
   "mimetype": "text/x-python",
   "name": "python",
   "nbconvert_exporter": "python",
   "pygments_lexer": "ipython3",
   "version": "3.10.12"
  }
 },
 "nbformat": 4,
 "nbformat_minor": 5
}
