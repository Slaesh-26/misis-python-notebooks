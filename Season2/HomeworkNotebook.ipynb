{
 "cells": [
  {
   "cell_type": "markdown",
   "id": "4deb4fe2-820f-43eb-8adc-63fdc263121a",
   "metadata": {},
   "source": [
    "# Homework #1"
   ]
  },
  {
   "cell_type": "markdown",
   "id": "4c2c6481-7130-455d-89b3-59db6dc6eaab",
   "metadata": {},
   "source": [
    "## Task #1"
   ]
  },
  {
   "cell_type": "code",
   "execution_count": 11,
   "id": "98a96d11-c088-494c-bb37-9badf912fa0c",
   "metadata": {},
   "outputs": [
    {
     "name": "stdout",
     "output_type": "stream",
     "text": [
      "Node: 1\n",
      "Node: 2\n",
      "Node: 3\n",
      "Node: 4\n",
      "\n",
      "Node: 4\n",
      "Node: 3\n",
      "Node: 2\n",
      "Node: 1\n",
      "\n"
     ]
    }
   ],
   "source": [
    "class Node:\n",
    "    def __init__(self, value, next):\n",
    "        self.value = value\n",
    "        self.next = next\n",
    "    \n",
    "    def __str__(self):\n",
    "        return f\"Node: {self.value}\"\n",
    "\n",
    "class LinkedList:\n",
    "    def __init__(self):\n",
    "        self.head = None\n",
    "        self.count = 0\n",
    "\n",
    "    def __str__(self):\n",
    "        current = self.head\n",
    "        result = \"\"\n",
    "        while current is not None:\n",
    "            result += f\"{current}\\n\"\n",
    "            current = current.next\n",
    "\n",
    "        return result\n",
    "\n",
    "    def add(self, value):\n",
    "        new_node = Node(value, None)\n",
    "        \n",
    "        if self.head == None:\n",
    "            self.head = new_node\n",
    "            return\n",
    "        \n",
    "        current = self.head\n",
    "\n",
    "        while current.next is not None:\n",
    "            current = current.next\n",
    "\n",
    "        current.next = new_node\n",
    "        self.count += 1\n",
    "\n",
    "    def reverse(self):\n",
    "        prev = None\n",
    "        current = self.head\n",
    "\n",
    "        while current is not None:\n",
    "            next = current.next\n",
    "            current.next = prev\n",
    "            prev = current\n",
    "            current = next\n",
    "        self.head = prev\n",
    "\n",
    "    def sort(self):\n",
    "        current_i = self.head\n",
    "        \n",
    "        while current_i is not None:\n",
    "            current_j = current_i.next\n",
    "            \n",
    "            while current_j is not None:\n",
    "                if (current_j.value < current_i.value):\n",
    "                    current_j.value, current_i.value = current_i.value, current_j.value\n",
    "                \n",
    "                current_j = current_j.next\n",
    "            current_i = current_i.next\n",
    "        \n",
    "list = LinkedList()\n",
    "list.add(1)\n",
    "list.add(2)\n",
    "list.add(3)\n",
    "list.add(4)\n",
    "\n",
    "print(list)\n",
    "list.reverse()\n",
    "print(list)"
   ]
  },
  {
   "cell_type": "markdown",
   "id": "bb3853e4-6a7b-4e46-a107-d4b76de898ae",
   "metadata": {},
   "source": [
    "## Task #2"
   ]
  },
  {
   "cell_type": "code",
   "execution_count": 13,
   "id": "3abd9d9a-f08c-4e88-88ce-314d7fabe4e5",
   "metadata": {},
   "outputs": [
    {
     "name": "stdout",
     "output_type": "stream",
     "text": [
      "Node: 2\n",
      "Node: 78\n",
      "Node: 1\n",
      "Node: 6\n",
      "Node: 4\n",
      "\n",
      "Node: 1\n",
      "Node: 2\n",
      "Node: 4\n",
      "Node: 6\n",
      "Node: 78\n",
      "\n"
     ]
    }
   ],
   "source": [
    "list = LinkedList()\n",
    "list.add(2)\n",
    "list.add(78)\n",
    "list.add(1)\n",
    "list.add(6)\n",
    "list.add(4)\n",
    "\n",
    "print(list)\n",
    "list.sort()\n",
    "print(list)"
   ]
  },
  {
   "cell_type": "markdown",
   "id": "214c170b-bcd3-433b-97b2-3e93e115cc53",
   "metadata": {},
   "source": [
    "## Task #3.1"
   ]
  },
  {
   "cell_type": "code",
   "execution_count": 1,
   "id": "a92639e5-3086-4d8f-ba2f-f3ab3754e632",
   "metadata": {},
   "outputs": [
    {
     "data": {
      "text/plain": [
       "11.386666666666668"
      ]
     },
     "execution_count": 1,
     "metadata": {},
     "output_type": "execute_result"
    }
   ],
   "source": [
    "import pandas as pd\n",
    "\n",
    "path = \"data/tips.csv\"\n",
    "df = pd.read_csv(path)\n",
    "\n",
    "masque = df[\"sex\"] == \"Male\"\n",
    "masque &= df[\"day\"] == \"Fri\"\n",
    "masque &= df[\"time\"] == \"Lunch\"\n",
    "masque &= df[\"smoker\"] == \"Yes\"\n",
    "\n",
    "df[masque][\"total_bill\"].mean()"
   ]
  },
  {
   "cell_type": "markdown",
   "id": "7cfdacc9-d9f0-4e42-bd73-73bf74ca25c8",
   "metadata": {},
   "source": [
    "## Task #3.2"
   ]
  },
  {
   "cell_type": "code",
   "execution_count": 35,
   "id": "bc75455a-6d9e-46e3-9bd5-6ef081822e23",
   "metadata": {},
   "outputs": [
    {
     "name": "stdout",
     "output_type": "stream",
     "text": [
      "Setosa\n",
      "       SepalLength  SepalWidth  PetalLength  PetalWidth\n",
      "count     50.00000   50.000000    50.000000    50.00000\n",
      "mean       5.00600    3.418000     1.464000     0.24400\n",
      "std        0.35249    0.381024     0.173511     0.10721\n",
      "min        4.30000    2.300000     1.000000     0.10000\n",
      "25%        4.80000    3.125000     1.400000     0.20000\n",
      "50%        5.00000    3.400000     1.500000     0.20000\n",
      "75%        5.20000    3.675000     1.575000     0.30000\n",
      "max        5.80000    4.400000     1.900000     0.60000\n",
      "\n",
      "Virginica\n",
      "       SepalLength  SepalWidth  PetalLength  PetalWidth\n",
      "count     50.00000   50.000000    50.000000    50.00000\n",
      "mean       6.58800    2.974000     5.552000     2.02600\n",
      "std        0.63588    0.322497     0.551895     0.27465\n",
      "min        4.90000    2.200000     4.500000     1.40000\n",
      "25%        6.22500    2.800000     5.100000     1.80000\n",
      "50%        6.50000    3.000000     5.550000     2.00000\n",
      "75%        6.90000    3.175000     5.875000     2.30000\n",
      "max        7.90000    3.800000     6.900000     2.50000\n",
      "\n",
      "Versicolor\n",
      "       SepalLength  SepalWidth  PetalLength  PetalWidth\n",
      "count    50.000000   50.000000    50.000000   50.000000\n",
      "mean      5.936000    2.770000     4.260000    1.326000\n",
      "std       0.516171    0.313798     0.469911    0.197753\n",
      "min       4.900000    2.000000     3.000000    1.000000\n",
      "25%       5.600000    2.525000     4.000000    1.200000\n",
      "50%       5.900000    2.800000     4.350000    1.300000\n",
      "75%       6.300000    3.000000     4.600000    1.500000\n",
      "max       7.000000    3.400000     5.100000    1.800000\n",
      "\n"
     ]
    }
   ],
   "source": [
    "path = \"data/iris.csv\"\n",
    "df = pd.read_csv(path)\n",
    "\n",
    "df_setosa = df.loc[df[\"Name\"] == \"Iris-setosa\"]\n",
    "df_virginica = df.loc[df[\"Name\"] == \"Iris-virginica\"]\n",
    "df_versicolor = df.loc[df[\"Name\"] == \"Iris-versicolor\"]\n",
    "\n",
    "print(f\"Setosa\\n{df_setosa.describe()}\\n\")\n",
    "print(f\"Virginica\\n{df_virginica.describe()}\\n\")\n",
    "print(f\"Versicolor\\n{df_versicolor.describe()}\\n\")"
   ]
  },
  {
   "cell_type": "markdown",
   "id": "c4d373aa-fc5f-42d0-bf6a-8c8ffc906c99",
   "metadata": {},
   "source": [
    "## Task #3.3"
   ]
  },
  {
   "cell_type": "code",
   "execution_count": 39,
   "id": "6410c7aa-bfb8-4fdc-b9bd-f41ca1d49fd9",
   "metadata": {},
   "outputs": [
    {
     "name": "stdout",
     "output_type": "stream",
     "text": [
      "      country  population    square\n",
      "0  Kazakhstan       17.04   2724902\n",
      "1      Russia      143.50  17125191\n",
      "2     Belarus        9.50    207600\n",
      "3     Ukraine       45.50    603628\n",
      "\n",
      "      country  population    square  population density\n",
      "0  Kazakhstan       17.04   2724902            6.253436\n",
      "1      Russia      143.50  17125191            8.379469\n",
      "2     Belarus        9.50    207600           45.761079\n",
      "3     Ukraine       45.50    603628           75.377550\n",
      "\n",
      "       страна  population   площадь  population density\n",
      "0  Kazakhstan       17.04   2724902            6.253436\n",
      "1      Russia      143.50  17125191            8.379469\n",
      "2     Belarus        9.50    207600           45.761079\n",
      "3     Ukraine       45.50    603628           75.377550\n"
     ]
    }
   ],
   "source": [
    "df = pd.DataFrame({\n",
    "     'country': ['Kazakhstan', 'Russia', 'Belarus', 'Ukraine'],\n",
    "     'population': [17.04, 143.5, 9.5, 45.5],\n",
    "     'square': [2724902, 17125191, 207600, 603628]\n",
    "})\n",
    "\n",
    "print(f\"{df}\\n\")\n",
    "\n",
    "df['population density'] = df['population'] * 1_000_000 / df['square']\n",
    "\n",
    "print(f\"{df}\\n\")\n",
    "\n",
    "renamed = df.rename(columns = {\"country\" : \"страна\", \"square\" : \"площадь\"})\n",
    "\n",
    "print(renamed)"
   ]
  },
  {
   "cell_type": "code",
   "execution_count": null,
   "id": "ba13ca4f-3851-4f99-a08c-3a39b5db1d7c",
   "metadata": {},
   "outputs": [],
   "source": []
  }
 ],
 "metadata": {
  "kernelspec": {
   "display_name": "Python 3 (ipykernel)",
   "language": "python",
   "name": "python3"
  },
  "language_info": {
   "codemirror_mode": {
    "name": "ipython",
    "version": 3
   },
   "file_extension": ".py",
   "mimetype": "text/x-python",
   "name": "python",
   "nbconvert_exporter": "python",
   "pygments_lexer": "ipython3",
   "version": "3.10.12"
  }
 },
 "nbformat": 4,
 "nbformat_minor": 5
}
