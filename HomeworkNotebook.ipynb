{
 "cells": [
  {
   "cell_type": "markdown",
   "id": "934a95f2-0a33-4fb6-864c-c9b53c4a340f",
   "metadata": {},
   "source": [
    "# Homework #1"
   ]
  },
  {
   "cell_type": "markdown",
   "id": "1e4a088d-0513-4848-bce8-4eed56ded4ef",
   "metadata": {},
   "source": [
    "## Task #1"
   ]
  },
  {
   "cell_type": "code",
   "execution_count": 16,
   "id": "bd62f3ac-5d61-4d5c-8f75-5919ca023ae9",
   "metadata": {},
   "outputs": [
    {
     "name": "stdout",
     "output_type": "stream",
     "text": [
      "0:2:46:40\n"
     ]
    }
   ],
   "source": [
    "seconds = 10000\n",
    "\n",
    "seconds_in_day = 24 * 3600\n",
    "seconds_in_hour = 3600\n",
    "seconds_in_minute = 60\n",
    "\n",
    "left = seconds\n",
    "result = \"\"\n",
    "\n",
    "for i in seconds_in_day, seconds_in_hour, seconds_in_minute:\n",
    "    time = int(left / i)\n",
    "    left -= time * i\n",
    "    result += f'{time}:'\n",
    "\n",
    "result += f'{left}'\n",
    "\n",
    "print(result)"
   ]
  },
  {
   "cell_type": "markdown",
   "id": "f2355e0b-4053-4357-93e4-1c518657990b",
   "metadata": {},
   "source": [
    "## Task #2"
   ]
  },
  {
   "cell_type": "code",
   "execution_count": 27,
   "id": "fda93bb6-4fa6-47da-93c9-ee6a758a60b8",
   "metadata": {},
   "outputs": [
    {
     "name": "stdin",
     "output_type": "stream",
     "text": [
      " 5\n",
      " f\n",
      " 5\n"
     ]
    },
    {
     "name": "stdout",
     "output_type": "stream",
     "text": [
      "Unknown sign. Try again.\n"
     ]
    }
   ],
   "source": [
    "number1 = float(input())\n",
    "sign = input()\n",
    "number2 = float(input())\n",
    "\n",
    "if sign == \"*\":\n",
    "    print(number1 * number2)\n",
    "elif sign == \"/\":\n",
    "    print(number1 / number2)\n",
    "elif sign == \"+\":\n",
    "    print(number1 + number2)\n",
    "elif sign == \"-\":\n",
    "    print(number1 - number2)\n",
    "else:\n",
    "    print(\"Unknown sign. Try again.\")"
   ]
  },
  {
   "cell_type": "code",
   "execution_count": null,
   "id": "f28d81ee-9a2e-4f1e-85f8-3c322a82d5ed",
   "metadata": {},
   "outputs": [],
   "source": []
  }
 ],
 "metadata": {
  "kernelspec": {
   "display_name": "Python 3 (ipykernel)",
   "language": "python",
   "name": "python3"
  },
  "language_info": {
   "codemirror_mode": {
    "name": "ipython",
    "version": 3
   },
   "file_extension": ".py",
   "mimetype": "text/x-python",
   "name": "python",
   "nbconvert_exporter": "python",
   "pygments_lexer": "ipython3",
   "version": "3.10.12"
  }
 },
 "nbformat": 4,
 "nbformat_minor": 5
}
