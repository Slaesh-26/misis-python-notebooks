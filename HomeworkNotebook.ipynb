{
 "cells": [
  {
   "cell_type": "markdown",
   "id": "934a95f2-0a33-4fb6-864c-c9b53c4a340f",
   "metadata": {},
   "source": [
    "# Homework #1"
   ]
  },
  {
   "cell_type": "markdown",
   "id": "1e4a088d-0513-4848-bce8-4eed56ded4ef",
   "metadata": {},
   "source": [
    "## Task #1"
   ]
  },
  {
   "cell_type": "code",
   "execution_count": 16,
   "id": "bd62f3ac-5d61-4d5c-8f75-5919ca023ae9",
   "metadata": {},
   "outputs": [
    {
     "name": "stdout",
     "output_type": "stream",
     "text": [
      "0:2:46:40\n"
     ]
    }
   ],
   "source": [
    "seconds = 10000\n",
    "\n",
    "seconds_in_day = 24 * 3600\n",
    "seconds_in_hour = 3600\n",
    "seconds_in_minute = 60\n",
    "\n",
    "left = seconds\n",
    "result = \"\"\n",
    "\n",
    "for i in seconds_in_day, seconds_in_hour, seconds_in_minute:\n",
    "    time = int(left / i)\n",
    "    left -= time * i\n",
    "    result += f'{time}:'\n",
    "\n",
    "result += f'{left}'\n",
    "\n",
    "print(result)"
   ]
  },
  {
   "cell_type": "markdown",
   "id": "f2355e0b-4053-4357-93e4-1c518657990b",
   "metadata": {},
   "source": [
    "## Task #2"
   ]
  },
  {
   "cell_type": "code",
   "execution_count": 7,
   "id": "fda93bb6-4fa6-47da-93c9-ee6a758a60b8",
   "metadata": {},
   "outputs": [
    {
     "name": "stdin",
     "output_type": "stream",
     "text": [
      " 5\n",
      " /\n",
      " 2\n"
     ]
    },
    {
     "name": "stdout",
     "output_type": "stream",
     "text": [
      "2.5\n"
     ]
    }
   ],
   "source": [
    "number1 = float(input())\n",
    "sign = input()\n",
    "number2 = float(input())\n",
    "\n",
    "if sign == \"*\":\n",
    "    print(number1 * number2)\n",
    "elif sign == \"/\":\n",
    "    print(number1 / number2)\n",
    "elif sign == \"+\":\n",
    "    print(number1 + number2)\n",
    "elif sign == \"-\":\n",
    "    print(number1 - number2)\n",
    "else:\n",
    "    print(\"Unknown sign. Try again.\")"
   ]
  },
  {
   "cell_type": "markdown",
   "id": "3adfe02e-23b5-46aa-9d1a-d792ff07d62c",
   "metadata": {},
   "source": [
    "## Task #3"
   ]
  },
  {
   "cell_type": "code",
   "execution_count": 11,
   "id": "1cd456c4-0633-423a-af09-90c4ccd10ef6",
   "metadata": {},
   "outputs": [
    {
     "name": "stdin",
     "output_type": "stream",
     "text": [
      " aaa\n",
      " bbb\n"
     ]
    },
    {
     "name": "stdout",
     "output_type": "stream",
     "text": [
      "aaa$bbb\n",
      "aaa$bbb\n",
      "aaa$bbb\n"
     ]
    }
   ],
   "source": [
    "first_string = input()\n",
    "second_string = input()\n",
    "\n",
    "print(f\"{first_string}${second_string}\")\n",
    "print(first_string + \"$\" + second_string)\n",
    "print(first_string, second_string, sep=\"$\")"
   ]
  },
  {
   "cell_type": "markdown",
   "id": "7eb966aa-84b8-47c9-9d87-7e0bb8c13f60",
   "metadata": {},
   "source": [
    "## Task #4"
   ]
  },
  {
   "cell_type": "code",
   "execution_count": 12,
   "id": "583f7b3b-bcf7-4790-a2d8-36f5cbefe07c",
   "metadata": {},
   "outputs": [
    {
     "name": "stdin",
     "output_type": "stream",
     "text": [
      "Enter your name:  Alex\n",
      "Enter your age:  15\n"
     ]
    },
    {
     "name": "stdout",
     "output_type": "stream",
     "text": [
      "Happy birthday, Alex!\n",
      "Happy birthday, Alex!\n",
      "Happy birthday, Alex!\n",
      "Happy birthday, Alex!\n",
      "Happy birthday, Alex!\n",
      "Happy birthday, Alex!\n",
      "Happy birthday, Alex!\n",
      "Happy birthday, Alex!\n",
      "Happy birthday, Alex!\n",
      "Happy birthday, Alex!\n",
      "Happy birthday, Alex!\n",
      "Happy birthday, Alex!\n",
      "Happy birthday, Alex!\n",
      "Happy birthday, Alex!\n",
      "Happy birthday, Alex!\n",
      "\n"
     ]
    }
   ],
   "source": [
    "name = input(\"Enter your name: \")\n",
    "age = int(input(\"Enter your age: \"))\n",
    "\n",
    "print(f\"Happy birthday, {name}!\\n\" * age)"
   ]
  },
  {
   "cell_type": "markdown",
   "id": "2347bd36-37b4-4afa-bf44-35c43df29a3e",
   "metadata": {},
   "source": [
    "# Homework #2"
   ]
  },
  {
   "cell_type": "markdown",
   "id": "d9563536-c074-4d0a-a4cf-daf4f7e33c41",
   "metadata": {},
   "source": [
    "## Task #1"
   ]
  },
  {
   "cell_type": "code",
   "execution_count": 4,
   "id": "a5c08974-39dc-4c6a-ac2d-2f8cf77d06fd",
   "metadata": {},
   "outputs": [
    {
     "name": "stdout",
     "output_type": "stream",
     "text": [
      "November\n"
     ]
    }
   ],
   "source": [
    "month_map = {\n",
    "    1: \"January\",\n",
    "    2: \"February\",\n",
    "    3: \"March\",\n",
    "    4: \"April\",\n",
    "    5: \"May\",\n",
    "    6: \"June\",\n",
    "    7: \"July\",\n",
    "    8: \"August\",\n",
    "    9: \"September\",\n",
    "    10: \"October\",\n",
    "    11: \"November\",\n",
    "    12: \"December\"\n",
    "}\n",
    "\n",
    "month = 11\n",
    "print(month_map[month])"
   ]
  },
  {
   "cell_type": "markdown",
   "id": "cfe0c6b7-a6e4-4fc5-b171-f02796b8e22d",
   "metadata": {},
   "source": [
    "## Task #2"
   ]
  },
  {
   "cell_type": "code",
   "execution_count": 9,
   "id": "83fdcd39-25b4-4053-b064-5124a22fc1fb",
   "metadata": {},
   "outputs": [
    {
     "name": "stdout",
     "output_type": "stream",
     "text": [
      "4\n"
     ]
    }
   ],
   "source": [
    "number1 = 1113456\n",
    "number2 = 700\n",
    "\n",
    "while(number1 != 0 and number2 != 0):\n",
    "    if (number1 > number2):\n",
    "        number1 %= number2\n",
    "    else:\n",
    "        number2 %= number1\n",
    "\n",
    "print(number2 + number1)\n"
   ]
  },
  {
   "cell_type": "markdown",
   "id": "e307178b-b64e-4c46-a69c-64650d6fbe9b",
   "metadata": {},
   "source": [
    "## Task #3"
   ]
  },
  {
   "cell_type": "code",
   "execution_count": 35,
   "id": "5bddf062-59ec-48ee-b39b-587dc1403a7e",
   "metadata": {},
   "outputs": [
    {
     "name": "stdout",
     "output_type": "stream",
     "text": [
      "Correct extension\n"
     ]
    }
   ],
   "source": [
    "import re\n",
    "\n",
    "file = 'Моя.диссертац.svg'\n",
    "extensions = ['png', 'jpg', 'jpeg', 'gif', 'svg']\n",
    "\n",
    "correct_extension = False\n",
    "\n",
    "for extension in extensions:\n",
    "    pattern = f'[\\.A-Za-z0-9А-Яа-я_\\s-]+\\.{extension}'\n",
    "    match = re.fullmatch(pattern, file)\n",
    "\n",
    "    if (match):\n",
    "        correct_extension = True\n",
    "        break\n",
    "\n",
    "print(\"Correct extension\" if correct_extension else \"Incorrect extension\")"
   ]
  },
  {
   "cell_type": "markdown",
   "id": "a70eb22c-45b7-4805-9701-54fe06b78e09",
   "metadata": {},
   "source": [
    "## Task #4"
   ]
  },
  {
   "cell_type": "code",
   "execution_count": 43,
   "id": "03f413d3-b2c6-4f74-9c03-3c793695cb21",
   "metadata": {},
   "outputs": [
    {
     "name": "stdout",
     "output_type": "stream",
     "text": [
      "Common year\n"
     ]
    }
   ],
   "source": [
    "year = 2021\n",
    "\n",
    "is_leap_year = False\n",
    "\n",
    "if (year % 400 == 0):\n",
    "    is_leap_year = True\n",
    "elif (year % 100 == 0):\n",
    "    is_leap_year = False\n",
    "elif (year % 4 == 0):\n",
    "    is_leap_year = True\n",
    "\n",
    "print(\"Leap year\" if is_leap_year else \"Common year\")"
   ]
  },
  {
   "cell_type": "code",
   "execution_count": null,
   "id": "9cc34cb1-4e7f-46d7-ad6d-a1bc42269f7a",
   "metadata": {},
   "outputs": [],
   "source": []
  }
 ],
 "metadata": {
  "kernelspec": {
   "display_name": "Python 3 (ipykernel)",
   "language": "python",
   "name": "python3"
  },
  "language_info": {
   "codemirror_mode": {
    "name": "ipython",
    "version": 3
   },
   "file_extension": ".py",
   "mimetype": "text/x-python",
   "name": "python",
   "nbconvert_exporter": "python",
   "pygments_lexer": "ipython3",
   "version": "3.10.12"
  }
 },
 "nbformat": 4,
 "nbformat_minor": 5
}
